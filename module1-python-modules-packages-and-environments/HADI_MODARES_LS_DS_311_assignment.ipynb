{
  "nbformat": 4,
  "nbformat_minor": 0,
  "metadata": {
    "colab": {
      "name": "HADI_MODARES_LS_DS_311_assignment.ipynb",
      "provenance": [],
      "collapsed_sections": [],
      "authorship_tag": "ABX9TyOOEh1QocUootNau31kNphW",
      "include_colab_link": true
    },
    "kernelspec": {
      "name": "python3",
      "display_name": "Python 3"
    }
  },
  "cells": [
    {
      "cell_type": "markdown",
      "metadata": {
        "id": "view-in-github",
        "colab_type": "text"
      },
      "source": [
        "<a href=\"https://colab.research.google.com/github/hadi-M/DS-Unit-3-Sprint-1-Software-Engineering/blob/master/module1-python-modules-packages-and-environments/HADI_MODARES_LS_DS_311_assignment.ipynb\" target=\"_parent\"><img src=\"https://colab.research.google.com/assets/colab-badge.svg\" alt=\"Open In Colab\"/></a>"
      ]
    },
    {
      "cell_type": "code",
      "metadata": {
        "id": "20jK7f44n9-W",
        "colab_type": "code",
        "colab": {
          "base_uri": "https://localhost:8080/",
          "height": 158
        },
        "outputId": "950db205-49bc-4fa8-c03c-395feeee60a8"
      },
      "source": [
        "!pip install --index-url https://test.pypi.org/simple/ lambdata-hadi-M==1.0.2"
      ],
      "execution_count": 1,
      "outputs": [
        {
          "output_type": "stream",
          "text": [
            "Looking in indexes: https://test.pypi.org/simple/\n",
            "Collecting lambdata-hadi-M==1.0.2\n",
            "  Downloading https://test-files.pythonhosted.org/packages/7d/5a/db24bfefbf3ed6ea9540a756a62bea06b499546466081a72368770374e4b/lambdata_hadi_M-1.0.2-py3-none-any.whl\n",
            "Installing collected packages: lambdata-hadi-M\n",
            "  Found existing installation: lambdata-hadi-M 1.0.1\n",
            "    Uninstalling lambdata-hadi-M-1.0.1:\n",
            "      Successfully uninstalled lambdata-hadi-M-1.0.1\n",
            "Successfully installed lambdata-hadi-M-1.0.2\n"
          ],
          "name": "stdout"
        }
      ]
    },
    {
      "cell_type": "code",
      "metadata": {
        "id": "we88VII4oS0H",
        "colab_type": "code",
        "colab": {}
      },
      "source": [
        "from lambdata_hadi_M.my_mod_1 import beautiful_nan_table, train_valiadate_test_split"
      ],
      "execution_count": 0,
      "outputs": []
    },
    {
      "cell_type": "code",
      "metadata": {
        "id": "75turF_zsCkj",
        "colab_type": "code",
        "colab": {
          "base_uri": "https://localhost:8080/",
          "height": 105
        },
        "outputId": "d087a0f5-a622-4f13-dd1e-594f992e09ab"
      },
      "source": [
        "from sklearn.datasets import load_boston\n",
        "import pandas as pd\n",
        "\n",
        "dataset = load_boston()\n",
        "df = pd.DataFrame(dataset.data, columns=dataset.feature_names)\n",
        "df['target'] = dataset.target\n",
        "\n",
        "beautiful_nan_table(df)"
      ],
      "execution_count": 3,
      "outputs": [
        {
          "output_type": "stream",
          "text": [
            "╒═══════════════════════╤════════╤══════╤═════════╤════════╤═══════╤══════╤═══════╤═══════╤═══════╤═══════╤═══════════╤═════╤═════════╤══════════╕\n",
            "│                       │   CRIM │   ZN │   INDUS │   CHAS │   NOX │   RM │   AGE │   DIS │   RAD │   TAX │   PTRATIO │   B │   LSTAT │   target │\n",
            "╞═══════════════════════╪════════╪══════╪═════════╪════════╪═══════╪══════╪═══════╪═══════╪═══════╪═══════╪═══════════╪═════╪═════════╪══════════╡\n",
            "│ Number of Null Values │      0 │    0 │       0 │      0 │     0 │    0 │     0 │     0 │     0 │     0 │         0 │   0 │       0 │        0 │\n",
            "╘═══════════════════════╧════════╧══════╧═════════╧════════╧═══════╧══════╧═══════╧═══════╧═══════╧═══════╧═══════════╧═════╧═════════╧══════════╛\n"
          ],
          "name": "stdout"
        }
      ]
    },
    {
      "cell_type": "code",
      "metadata": {
        "id": "mxz0-mZcwQWg",
        "colab_type": "code",
        "colab": {
          "base_uri": "https://localhost:8080/",
          "height": 35
        },
        "outputId": "39ee869d-7ee7-477a-b8d1-28f7c04b0ff4"
      },
      "source": [
        "df = df.iloc[:100]\n",
        "df.shape"
      ],
      "execution_count": 4,
      "outputs": [
        {
          "output_type": "execute_result",
          "data": {
            "text/plain": [
              "(100, 14)"
            ]
          },
          "metadata": {
            "tags": []
          },
          "execution_count": 4
        }
      ]
    },
    {
      "cell_type": "code",
      "metadata": {
        "id": "Gp8HJ4ljwdog",
        "colab_type": "code",
        "colab": {
          "base_uri": "https://localhost:8080/",
          "height": 70
        },
        "outputId": "807e769e-bd6a-43f1-9680-aa1b15c14cd9"
      },
      "source": [
        "train, validate, test = train_valiadate_test_split(df, 0.5, 0.3, 0.2)\n",
        "\n",
        "display(len(train))\n",
        "display(len(validate))\n",
        "display(len(test))"
      ],
      "execution_count": 5,
      "outputs": [
        {
          "output_type": "display_data",
          "data": {
            "text/plain": [
              "50"
            ]
          },
          "metadata": {
            "tags": []
          }
        },
        {
          "output_type": "display_data",
          "data": {
            "text/plain": [
              "30"
            ]
          },
          "metadata": {
            "tags": []
          }
        },
        {
          "output_type": "display_data",
          "data": {
            "text/plain": [
              "20"
            ]
          },
          "metadata": {
            "tags": []
          }
        }
      ]
    }
  ]
}