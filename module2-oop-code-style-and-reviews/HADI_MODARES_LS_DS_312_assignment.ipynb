{
  "nbformat": 4,
  "nbformat_minor": 0,
  "metadata": {
    "colab": {
      "name": "HADI_MODARES_LS_DS_311_assignment.ipynb",
      "provenance": [],
      "collapsed_sections": [],
      "authorship_tag": "ABX9TyOcWNl5pRfYcOtWsG+FIzpH",
      "include_colab_link": true
    },
    "kernelspec": {
      "name": "python3",
      "display_name": "Python 3"
    }
  },
  "cells": [
    {
      "cell_type": "markdown",
      "metadata": {
        "id": "view-in-github",
        "colab_type": "text"
      },
      "source": [
        "<a href=\"https://colab.research.google.com/github/hadi-M/DS-Unit-3-Sprint-1-Software-Engineering/blob/master/module2-oop-code-style-and-reviews/HADI_MODARES_LS_DS_312_assignment.ipynb\" target=\"_parent\"><img src=\"https://colab.research.google.com/assets/colab-badge.svg\" alt=\"Open In Colab\"/></a>"
      ]
    },
    {
      "cell_type": "code",
      "metadata": {
        "id": "20jK7f44n9-W",
        "colab_type": "code",
        "outputId": "a113929e-cb8d-4ac0-d757-168c30caf040",
        "colab": {
          "base_uri": "https://localhost:8080/",
          "height": 125
        }
      },
      "source": [
        "!pip install --index-url https://test.pypi.org/simple/ lambdata-hadi-M==1.0.4"
      ],
      "execution_count": 0,
      "outputs": [
        {
          "output_type": "stream",
          "text": [
            "Looking in indexes: https://test.pypi.org/simple/\n",
            "Collecting lambdata-hadi-M==1.0.4\n",
            "  Downloading https://test-files.pythonhosted.org/packages/d4/42/f978e21404af0d97d6289a2b6983268fe720e1c32ec0a267ba2c5b75d74c/lambdata_hadi_M-1.0.4-py3-none-any.whl\n",
            "Installing collected packages: lambdata-hadi-M\n",
            "Successfully installed lambdata-hadi-M-1.0.4\n"
          ],
          "name": "stdout"
        }
      ]
    },
    {
      "cell_type": "code",
      "metadata": {
        "id": "we88VII4oS0H",
        "colab_type": "code",
        "colab": {}
      },
      "source": [
        "# my own module imports\n",
        "from lambdata_hadi_M.my_mod_1 import *"
      ],
      "execution_count": 0,
      "outputs": []
    },
    {
      "cell_type": "code",
      "metadata": {
        "id": "XlzDoZaiYa1y",
        "colab_type": "code",
        "colab": {}
      },
      "source": [
        "# 3rd party imports\n",
        "from sklearn.datasets import load_boston\n",
        "import pandas as pd"
      ],
      "execution_count": 0,
      "outputs": []
    },
    {
      "cell_type": "code",
      "metadata": {
        "id": "75turF_zsCkj",
        "colab_type": "code",
        "colab": {}
      },
      "source": [
        "# getting data ready\n",
        "dataset = load_boston()\n",
        "df = pd.DataFrame(dataset.data, columns=dataset.feature_names)\n",
        "df['target'] = dataset.target"
      ],
      "execution_count": 0,
      "outputs": []
    },
    {
      "cell_type": "code",
      "metadata": {
        "id": "gK5P5XCKYMLn",
        "colab_type": "code",
        "outputId": "8072aa14-8d7d-464e-fcfd-7bf32413f8b0",
        "colab": {
          "base_uri": "https://localhost:8080/",
          "height": 125
        }
      },
      "source": [
        "# testing first function\n",
        "beautiful_nan_table(df)"
      ],
      "execution_count": 0,
      "outputs": [
        {
          "output_type": "stream",
          "text": [
            "╒═══════════════════════╤════════╤══════╤═════════╤════════╤═══════╤══════╤═══════╤═══════╤═══════╤═══════╤═══════════╤═════╤═════════╤══════════╕\n",
            "│                       │   CRIM │   ZN │   INDUS │   CHAS │   NOX │   RM │   AGE │   DIS │   RAD │   TAX │   PTRATIO │   B │   LSTAT │   target │\n",
            "╞═══════════════════════╪════════╪══════╪═════════╪════════╪═══════╪══════╪═══════╪═══════╪═══════╪═══════╪═══════════╪═════╪═════════╪══════════╡\n",
            "│ Number of Null Values │      0 │    0 │       0 │      0 │     0 │    0 │     0 │     0 │     0 │     0 │         0 │   0 │       0 │        0 │\n",
            "╘═══════════════════════╧════════╧══════╧═════════╧════════╧═══════╧══════╧═══════╧═══════╧═══════╧═══════╧═══════════╧═════╧═════════╧══════════╛\n"
          ],
          "name": "stdout"
        }
      ]
    },
    {
      "cell_type": "code",
      "metadata": {
        "id": "mxz0-mZcwQWg",
        "colab_type": "code",
        "outputId": "d256fad1-05fa-47ea-a5d6-9e649932eb30",
        "colab": {
          "base_uri": "https://localhost:8080/",
          "height": 35
        }
      },
      "source": [
        "df = df.iloc[:100]\n",
        "df.shape"
      ],
      "execution_count": 0,
      "outputs": [
        {
          "output_type": "execute_result",
          "data": {
            "text/plain": [
              "(100, 14)"
            ]
          },
          "metadata": {
            "tags": []
          },
          "execution_count": 6
        }
      ]
    },
    {
      "cell_type": "code",
      "metadata": {
        "id": "Gp8HJ4ljwdog",
        "colab_type": "code",
        "outputId": "c89515c2-2846-4b0f-ec9e-a073f27e90dd",
        "colab": {
          "base_uri": "https://localhost:8080/",
          "height": 70
        }
      },
      "source": [
        "# testing second function\n",
        "train, validate, test = train_valiadate_test_split(df, 0.5, 0.3, 0.2)\n",
        "\n",
        "display(len(train))\n",
        "display(len(validate))\n",
        "display(len(test))"
      ],
      "execution_count": 0,
      "outputs": [
        {
          "output_type": "display_data",
          "data": {
            "text/plain": [
              "50"
            ]
          },
          "metadata": {
            "tags": []
          }
        },
        {
          "output_type": "display_data",
          "data": {
            "text/plain": [
              "30"
            ]
          },
          "metadata": {
            "tags": []
          }
        },
        {
          "output_type": "display_data",
          "data": {
            "text/plain": [
              "20"
            ]
          },
          "metadata": {
            "tags": []
          }
        }
      ]
    },
    {
      "cell_type": "code",
      "metadata": {
        "id": "wuHTlZkQYKOw",
        "colab_type": "code",
        "outputId": "495b0c58-a891-41ed-d171-17614fe4df39",
        "colab": {
          "base_uri": "https://localhost:8080/",
          "height": 417
        }
      },
      "source": [
        "# testing third function\n",
        "df = list_to_new_col(df, len(df)*[0], \"ZEROS\")\n",
        "display(df)"
      ],
      "execution_count": 0,
      "outputs": [
        {
          "output_type": "display_data",
          "data": {
            "text/html": [
              "<div>\n",
              "<style scoped>\n",
              "    .dataframe tbody tr th:only-of-type {\n",
              "        vertical-align: middle;\n",
              "    }\n",
              "\n",
              "    .dataframe tbody tr th {\n",
              "        vertical-align: top;\n",
              "    }\n",
              "\n",
              "    .dataframe thead th {\n",
              "        text-align: right;\n",
              "    }\n",
              "</style>\n",
              "<table border=\"1\" class=\"dataframe\">\n",
              "  <thead>\n",
              "    <tr style=\"text-align: right;\">\n",
              "      <th></th>\n",
              "      <th>CRIM</th>\n",
              "      <th>ZN</th>\n",
              "      <th>INDUS</th>\n",
              "      <th>CHAS</th>\n",
              "      <th>NOX</th>\n",
              "      <th>RM</th>\n",
              "      <th>AGE</th>\n",
              "      <th>DIS</th>\n",
              "      <th>RAD</th>\n",
              "      <th>TAX</th>\n",
              "      <th>PTRATIO</th>\n",
              "      <th>B</th>\n",
              "      <th>LSTAT</th>\n",
              "      <th>target</th>\n",
              "      <th>ZEROS</th>\n",
              "    </tr>\n",
              "  </thead>\n",
              "  <tbody>\n",
              "    <tr>\n",
              "      <th>0</th>\n",
              "      <td>0.00632</td>\n",
              "      <td>18.0</td>\n",
              "      <td>2.31</td>\n",
              "      <td>0.0</td>\n",
              "      <td>0.538</td>\n",
              "      <td>6.575</td>\n",
              "      <td>65.2</td>\n",
              "      <td>4.0900</td>\n",
              "      <td>1.0</td>\n",
              "      <td>296.0</td>\n",
              "      <td>15.3</td>\n",
              "      <td>396.90</td>\n",
              "      <td>4.98</td>\n",
              "      <td>24.0</td>\n",
              "      <td>0</td>\n",
              "    </tr>\n",
              "    <tr>\n",
              "      <th>1</th>\n",
              "      <td>0.02731</td>\n",
              "      <td>0.0</td>\n",
              "      <td>7.07</td>\n",
              "      <td>0.0</td>\n",
              "      <td>0.469</td>\n",
              "      <td>6.421</td>\n",
              "      <td>78.9</td>\n",
              "      <td>4.9671</td>\n",
              "      <td>2.0</td>\n",
              "      <td>242.0</td>\n",
              "      <td>17.8</td>\n",
              "      <td>396.90</td>\n",
              "      <td>9.14</td>\n",
              "      <td>21.6</td>\n",
              "      <td>0</td>\n",
              "    </tr>\n",
              "    <tr>\n",
              "      <th>2</th>\n",
              "      <td>0.02729</td>\n",
              "      <td>0.0</td>\n",
              "      <td>7.07</td>\n",
              "      <td>0.0</td>\n",
              "      <td>0.469</td>\n",
              "      <td>7.185</td>\n",
              "      <td>61.1</td>\n",
              "      <td>4.9671</td>\n",
              "      <td>2.0</td>\n",
              "      <td>242.0</td>\n",
              "      <td>17.8</td>\n",
              "      <td>392.83</td>\n",
              "      <td>4.03</td>\n",
              "      <td>34.7</td>\n",
              "      <td>0</td>\n",
              "    </tr>\n",
              "    <tr>\n",
              "      <th>3</th>\n",
              "      <td>0.03237</td>\n",
              "      <td>0.0</td>\n",
              "      <td>2.18</td>\n",
              "      <td>0.0</td>\n",
              "      <td>0.458</td>\n",
              "      <td>6.998</td>\n",
              "      <td>45.8</td>\n",
              "      <td>6.0622</td>\n",
              "      <td>3.0</td>\n",
              "      <td>222.0</td>\n",
              "      <td>18.7</td>\n",
              "      <td>394.63</td>\n",
              "      <td>2.94</td>\n",
              "      <td>33.4</td>\n",
              "      <td>0</td>\n",
              "    </tr>\n",
              "    <tr>\n",
              "      <th>4</th>\n",
              "      <td>0.06905</td>\n",
              "      <td>0.0</td>\n",
              "      <td>2.18</td>\n",
              "      <td>0.0</td>\n",
              "      <td>0.458</td>\n",
              "      <td>7.147</td>\n",
              "      <td>54.2</td>\n",
              "      <td>6.0622</td>\n",
              "      <td>3.0</td>\n",
              "      <td>222.0</td>\n",
              "      <td>18.7</td>\n",
              "      <td>396.90</td>\n",
              "      <td>5.33</td>\n",
              "      <td>36.2</td>\n",
              "      <td>0</td>\n",
              "    </tr>\n",
              "    <tr>\n",
              "      <th>...</th>\n",
              "      <td>...</td>\n",
              "      <td>...</td>\n",
              "      <td>...</td>\n",
              "      <td>...</td>\n",
              "      <td>...</td>\n",
              "      <td>...</td>\n",
              "      <td>...</td>\n",
              "      <td>...</td>\n",
              "      <td>...</td>\n",
              "      <td>...</td>\n",
              "      <td>...</td>\n",
              "      <td>...</td>\n",
              "      <td>...</td>\n",
              "      <td>...</td>\n",
              "      <td>...</td>\n",
              "    </tr>\n",
              "    <tr>\n",
              "      <th>95</th>\n",
              "      <td>0.12204</td>\n",
              "      <td>0.0</td>\n",
              "      <td>2.89</td>\n",
              "      <td>0.0</td>\n",
              "      <td>0.445</td>\n",
              "      <td>6.625</td>\n",
              "      <td>57.8</td>\n",
              "      <td>3.4952</td>\n",
              "      <td>2.0</td>\n",
              "      <td>276.0</td>\n",
              "      <td>18.0</td>\n",
              "      <td>357.98</td>\n",
              "      <td>6.65</td>\n",
              "      <td>28.4</td>\n",
              "      <td>0</td>\n",
              "    </tr>\n",
              "    <tr>\n",
              "      <th>96</th>\n",
              "      <td>0.11504</td>\n",
              "      <td>0.0</td>\n",
              "      <td>2.89</td>\n",
              "      <td>0.0</td>\n",
              "      <td>0.445</td>\n",
              "      <td>6.163</td>\n",
              "      <td>69.6</td>\n",
              "      <td>3.4952</td>\n",
              "      <td>2.0</td>\n",
              "      <td>276.0</td>\n",
              "      <td>18.0</td>\n",
              "      <td>391.83</td>\n",
              "      <td>11.34</td>\n",
              "      <td>21.4</td>\n",
              "      <td>0</td>\n",
              "    </tr>\n",
              "    <tr>\n",
              "      <th>97</th>\n",
              "      <td>0.12083</td>\n",
              "      <td>0.0</td>\n",
              "      <td>2.89</td>\n",
              "      <td>0.0</td>\n",
              "      <td>0.445</td>\n",
              "      <td>8.069</td>\n",
              "      <td>76.0</td>\n",
              "      <td>3.4952</td>\n",
              "      <td>2.0</td>\n",
              "      <td>276.0</td>\n",
              "      <td>18.0</td>\n",
              "      <td>396.90</td>\n",
              "      <td>4.21</td>\n",
              "      <td>38.7</td>\n",
              "      <td>0</td>\n",
              "    </tr>\n",
              "    <tr>\n",
              "      <th>98</th>\n",
              "      <td>0.08187</td>\n",
              "      <td>0.0</td>\n",
              "      <td>2.89</td>\n",
              "      <td>0.0</td>\n",
              "      <td>0.445</td>\n",
              "      <td>7.820</td>\n",
              "      <td>36.9</td>\n",
              "      <td>3.4952</td>\n",
              "      <td>2.0</td>\n",
              "      <td>276.0</td>\n",
              "      <td>18.0</td>\n",
              "      <td>393.53</td>\n",
              "      <td>3.57</td>\n",
              "      <td>43.8</td>\n",
              "      <td>0</td>\n",
              "    </tr>\n",
              "    <tr>\n",
              "      <th>99</th>\n",
              "      <td>0.06860</td>\n",
              "      <td>0.0</td>\n",
              "      <td>2.89</td>\n",
              "      <td>0.0</td>\n",
              "      <td>0.445</td>\n",
              "      <td>7.416</td>\n",
              "      <td>62.5</td>\n",
              "      <td>3.4952</td>\n",
              "      <td>2.0</td>\n",
              "      <td>276.0</td>\n",
              "      <td>18.0</td>\n",
              "      <td>396.90</td>\n",
              "      <td>6.19</td>\n",
              "      <td>33.2</td>\n",
              "      <td>0</td>\n",
              "    </tr>\n",
              "  </tbody>\n",
              "</table>\n",
              "<p>100 rows × 15 columns</p>\n",
              "</div>"
            ],
            "text/plain": [
              "       CRIM    ZN  INDUS  CHAS    NOX  ...  PTRATIO       B  LSTAT  target  ZEROS\n",
              "0   0.00632  18.0   2.31   0.0  0.538  ...     15.3  396.90   4.98    24.0      0\n",
              "1   0.02731   0.0   7.07   0.0  0.469  ...     17.8  396.90   9.14    21.6      0\n",
              "2   0.02729   0.0   7.07   0.0  0.469  ...     17.8  392.83   4.03    34.7      0\n",
              "3   0.03237   0.0   2.18   0.0  0.458  ...     18.7  394.63   2.94    33.4      0\n",
              "4   0.06905   0.0   2.18   0.0  0.458  ...     18.7  396.90   5.33    36.2      0\n",
              "..      ...   ...    ...   ...    ...  ...      ...     ...    ...     ...    ...\n",
              "95  0.12204   0.0   2.89   0.0  0.445  ...     18.0  357.98   6.65    28.4      0\n",
              "96  0.11504   0.0   2.89   0.0  0.445  ...     18.0  391.83  11.34    21.4      0\n",
              "97  0.12083   0.0   2.89   0.0  0.445  ...     18.0  396.90   4.21    38.7      0\n",
              "98  0.08187   0.0   2.89   0.0  0.445  ...     18.0  393.53   3.57    43.8      0\n",
              "99  0.06860   0.0   2.89   0.0  0.445  ...     18.0  396.90   6.19    33.2      0\n",
              "\n",
              "[100 rows x 15 columns]"
            ]
          },
          "metadata": {
            "tags": []
          }
        }
      ]
    },
    {
      "cell_type": "code",
      "metadata": {
        "id": "9oX3A3uLDikz",
        "colab_type": "code",
        "colab": {}
      },
      "source": [
        "# importing my class: ImageManipulator\n",
        "from lambdata_hadi_M.ImageManipulator import ImageManipulator"
      ],
      "execution_count": 0,
      "outputs": []
    },
    {
      "cell_type": "code",
      "metadata": {
        "id": "lkAQaXytEO_q",
        "colab_type": "code",
        "outputId": "fbe6229e-ee05-4760-a239-ec62a53c02c3",
        "colab": {
          "base_uri": "https://localhost:8080/",
          "height": 1000
        }
      },
      "source": [
        "!wget https://voluntarysupport.org.uk/wp-content/uploads/2018/07/Google_logo.jpg\n",
        "from IPython.display import Image\n",
        "\n",
        "Image(\"Google_logo.jpg\")"
      ],
      "execution_count": 0,
      "outputs": [
        {
          "output_type": "stream",
          "text": [
            "--2020-05-06 03:43:39--  https://voluntarysupport.org.uk/wp-content/uploads/2018/07/Google_logo.jpg\n",
            "Resolving voluntarysupport.org.uk (voluntarysupport.org.uk)... 77.104.149.205\n",
            "Connecting to voluntarysupport.org.uk (voluntarysupport.org.uk)|77.104.149.205|:443... connected.\n",
            "HTTP request sent, awaiting response... 200 OK\n",
            "Length: 20747 (20K) [image/jpeg]\n",
            "Saving to: ‘Google_logo.jpg.3’\n",
            "\n",
            "\rGoogle_logo.jpg.3     0%[                    ]       0  --.-KB/s               \rGoogle_logo.jpg.3   100%[===================>]  20.26K  --.-KB/s    in 0s      \n",
            "\n",
            "2020-05-06 03:43:39 (223 MB/s) - ‘Google_logo.jpg.3’ saved [20747/20747]\n",
            "\n"
          ],
          "name": "stdout"
        },
        {
          "output_type": "execute_result",
          "data": {
            "image/jpeg": "[encoded data removed]",
            "text/plain": [
              "<IPython.core.display.Image object>"
            ]
          },
          "metadata": {
            "tags": []
          },
          "execution_count": 17
        }
      ]
    },
    {
      "cell_type": "code",
      "metadata": {
        "id": "RnjTJiNTDzlK",
        "colab_type": "code",
        "outputId": "356b0438-fbb2-4de1-d403-a3068197b78a",
        "colab": {
          "base_uri": "https://localhost:8080/",
          "height": 810
        }
      },
      "source": [
        "img_man = ImageManipulator(image_path)\n",
        "img_man.add_to_rgb(20)\n",
        "img_man.save(\"plus_20.jpg\")\n",
        "Image(\"plus_20.jpg\")"
      ],
      "execution_count": 0,
      "outputs": [
        {
          "output_type": "execute_result",
          "data": {
            "image/jpeg": "[encoded data removed]",
            "text/plain": [
              "<IPython.core.display.Image object>"
            ]
          },
          "metadata": {
            "tags": []
          },
          "execution_count": 19
        }
      ]
    },
    {
      "cell_type": "code",
      "metadata": {
        "id": "BBmM1UuMFd9n",
        "colab_type": "code",
        "outputId": "9b469b97-3232-4402-fa44-f83a50725175",
        "colab": {
          "base_uri": "https://localhost:8080/",
          "height": 810
        }
      },
      "source": [
        "img_man.add_to_rgb(255)\n",
        "img_man.save(\"inverted.jpg\")\n",
        "Image(\"inverted.jpg\")"
      ],
      "execution_count": 0,
      "outputs": [
        {
          "output_type": "execute_result",
          "data": {
            "image/jpeg": "[encoded data removed]",
            "text/plain": [
              "<IPython.core.display.Image object>"
            ]
          },
          "metadata": {
            "tags": []
          },
          "execution_count": 35
        }
      ]
    }
  ]
}